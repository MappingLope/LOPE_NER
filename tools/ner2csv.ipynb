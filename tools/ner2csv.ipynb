{
 "cells": [
  {
   "cell_type": "code",
   "execution_count": 3,
   "metadata": {},
   "outputs": [
    {
     "name": "stdout",
     "output_type": "stream",
     "text": [
      "Requirement already satisfied: pandas in /opt/anaconda3/lib/python3.12/site-packages (2.2.2)\n",
      "Requirement already satisfied: numpy>=1.26.0 in /opt/anaconda3/lib/python3.12/site-packages (from pandas) (1.26.4)\n",
      "Requirement already satisfied: python-dateutil>=2.8.2 in /opt/anaconda3/lib/python3.12/site-packages (from pandas) (2.9.0.post0)\n",
      "Requirement already satisfied: pytz>=2020.1 in /opt/anaconda3/lib/python3.12/site-packages (from pandas) (2024.1)\n",
      "Requirement already satisfied: tzdata>=2022.7 in /opt/anaconda3/lib/python3.12/site-packages (from pandas) (2023.3)\n",
      "Requirement already satisfied: six>=1.5 in /opt/anaconda3/lib/python3.12/site-packages (from python-dateutil>=2.8.2->pandas) (1.16.0)\n",
      "Listo! Guardado en NER_LOPE.csv\n"
     ]
    }
   ],
   "source": [
    "#NER to CSV\n",
    "\n",
    "\n",
    "!python3 -m pip install pandas\n",
    "\n",
    "import os\n",
    "import pandas as pd\n",
    "from collections import Counter\n",
    "\n",
    "def extract_places(file_content):\n",
    "\n",
    "#Extraer lugares etiquetados con B-LOC e I-LOC.\n",
    "    \n",
    "    places = []\n",
    "    lines = file_content.splitlines()\n",
    "    current_place = []\n",
    "    for line in lines:\n",
    "        if line.strip():  # Ignorar líneas vacías\n",
    "            parts = line.split()\n",
    "            if len(parts) > 1:\n",
    "                word = parts[0]\n",
    "                tag = parts[-1]\n",
    "                if tag == 'B-LOC':\n",
    "                    if current_place:\n",
    "                        places.append(\" \".join(current_place))\n",
    "                    current_place = [word]\n",
    "                elif tag == 'I-LOC' and current_place:\n",
    "                    current_place.append(word)\n",
    "                else:\n",
    "                    if current_place:\n",
    "                        places.append(\" \".join(current_place))\n",
    "                        current_place = []\n",
    "    if current_place:\n",
    "        places.append(\" \".join(current_place))\n",
    "    return places\n",
    "\n",
    "def process_files(directory):\n",
    "\n",
    "#Procesar todos los archivos para extrar B-LOC y menciones\n",
    "\n",
    "    data = []\n",
    "\n",
    "    for filename in os.listdir(directory):\n",
    "        if filename.endswith(\".txt\"):\n",
    "            filepath = os.path.join(directory, filename)\n",
    "            with open(filepath, 'r', encoding='utf-8') as file:\n",
    "                file_content = file.read()\n",
    "            places = extract_places(file_content)\n",
    "            occurrences = Counter(places)\n",
    "            for place, count in occurrences.items():\n",
    "                data.append([filename, place, count])\n",
    "\n",
    "    return data\n",
    "\n",
    "def save_to_csv(data, output_file):\n",
    "\n",
    "#Guardar en archivo CSV\n",
    "\n",
    "    df = pd.DataFrame(data, columns=['Name', 'Place', 'Occurrences'])\n",
    "    df.to_csv(output_file, index=False)\n",
    "\n",
    "#Definir directorios\n",
    "directory = \"../corpus/corpus_full/corpus_full_out/\"\n",
    "output_file = \"NER_LOPE.csv\"\n",
    "\n",
    "#Guardar\n",
    "data = process_files(directory)\n",
    "save_to_csv(data, output_file)\n",
    "\n",
    "print(f\"Listo! Guardado en {output_file}\")\n"
   ]
  },
  {
   "cell_type": "code",
   "execution_count": null,
   "metadata": {},
   "outputs": [],
   "source": []
  }
 ],
 "metadata": {
  "kernelspec": {
   "display_name": "Python 3 (ipykernel)",
   "language": "python",
   "name": "python3"
  },
  "language_info": {
   "codemirror_mode": {
    "name": "ipython",
    "version": 3
   },
   "file_extension": ".py",
   "mimetype": "text/x-python",
   "name": "python",
   "nbconvert_exporter": "python",
   "pygments_lexer": "ipython3",
   "version": "3.12.4"
  }
 },
 "nbformat": 4,
 "nbformat_minor": 4
}
