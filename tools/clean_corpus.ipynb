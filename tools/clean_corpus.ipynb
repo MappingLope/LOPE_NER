{
 "cells": [
  {
   "cell_type": "code",
   "execution_count": 1,
   "metadata": {},
   "outputs": [
    {
     "name": "stdout",
     "output_type": "stream",
     "text": [
      "Limpieza completada. Archivos guardados en 'corpus_full_clean'.\n"
     ]
    }
   ],
   "source": [
    "#Limpieza del corpus\n",
    "\n",
    "import os\n",
    "import re\n",
    "\n",
    "# Directorios\n",
    "input_dir = 'corpus_full'\n",
    "output_dir = 'corpus_full_clean'\n",
    "os.makedirs(output_dir, exist_ok=True)\n",
    "\n",
    "# Patrones regex\n",
    "uppercase_pattern = re.compile(r'\\b[A-ZÁÉÍÓÚÑ]{2,}\\b')   # Palabras en mayúsculas\n",
    "number_pattern = re.compile(r'\\b\\d+\\b')                  # Números\n",
    "\n",
    "# Procesar archivos\n",
    "for filename in os.listdir(input_dir):\n",
    "    if filename.endswith('.txt'):\n",
    "        input_path = os.path.join(input_dir, filename)\n",
    "        output_path = os.path.join(output_dir, filename)\n",
    "        \n",
    "        with open(input_path, 'r', encoding='utf-8') as file:\n",
    "            lines = file.readlines()\n",
    "        \n",
    "        cleaned_lines = []\n",
    "        for line in lines:\n",
    "            # Eliminar palabras en mayúsculas y números\n",
    "            line = uppercase_pattern.sub('', line)\n",
    "            line = number_pattern.sub('', line)\n",
    "            # Quitar espacios extra\n",
    "            cleaned_line = ' '.join(line.split())\n",
    "            if cleaned_line:  # No agregar líneas vacías\n",
    "                cleaned_lines.append(cleaned_line + '\\n')\n",
    "        \n",
    "        with open(output_path, 'w', encoding='utf-8') as file:\n",
    "            file.writelines(cleaned_lines)\n",
    "\n",
    "print(\"Limpieza completada. Archivos guardados en 'corpus_full_clean'.\")\n"
   ]
  },
  {
   "cell_type": "code",
   "execution_count": null,
   "metadata": {},
   "outputs": [],
   "source": []
  }
 ],
 "metadata": {
  "kernelspec": {
   "display_name": "Python 3 (ipykernel)",
   "language": "python",
   "name": "python3"
  },
  "language_info": {
   "codemirror_mode": {
    "name": "ipython",
    "version": 3
   },
   "file_extension": ".py",
   "mimetype": "text/x-python",
   "name": "python",
   "nbconvert_exporter": "python",
   "pygments_lexer": "ipython3",
   "version": "3.12.4"
  }
 },
 "nbformat": 4,
 "nbformat_minor": 4
}
